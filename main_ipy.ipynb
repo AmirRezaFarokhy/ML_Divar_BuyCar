{
 "cells": [
  {
   "cell_type": "code",
   "execution_count": 3,
   "id": "6c4f6c52-c5d7-411b-bf09-6f3579a55779",
   "metadata": {},
   "outputs": [
    {
     "name": "stdout",
     "output_type": "stream",
     "text": [
      "Done. URL: https://divar.ir/v/پژو-206-تیپ-۵-مدل-۱۳۹۳/QZZ7LDin\n",
      "Done. URL: https://divar.ir/v/پژو-206-تیپ-۳-پانوراما-مدل-۱۴۰۱/QZwjRlNQ\n",
      "Request is Refus please try again. list index out of range\n",
      "Dataset is: [{'colume_2': 'سالم', 'colume_3': 'سالم و پلمپ', 'colume_4': 'سالم و بی\\u200cخط و خش', 'colume_5': 6, 'colume_6': 'دنده\\u200cای', 'colume_7': 'هستم', 'price': 430000000.0, 'colume_10': 166000, 'colume_11': 1393, 'url': 'https://divar.ir/v/پژو-206-تیپ-۵-مدل-۱۳۹۳/QZZ7LDin'}, {'colume_2': 'سالم', 'colume_3': 'سالم و پلمپ', 'colume_4': 'سالم و بی\\u200cخط و خش', 'colume_5': 11, 'colume_6': 'دنده\\u200cای', 'price': 610000000.0, 'colume_10': 19000, 'colume_11': 1401, 'url': 'https://divar.ir/v/پژو-206-تیپ-۳-پانوراما-مدل-۱۴۰۱/QZwjRlNQ'}], Token is: {'colume_2': 'وضعیت موتور', 'colume_3': 'وضعیت شاسی\\u200cها', 'colume_4': 'وضعیت بدنه', 'colume_5': 'مهلت بیمهٔ شخص ثالث', 'colume_6': 'گیربکس', 'colume_10': 'کارکرد', 'colume_11': 'مدل (سال تولید)'}\n"
     ]
    }
   ],
   "source": [
    "from bs4 import BeautifulSoup\n",
    "import urllib3\n",
    "import pandas as pd\n",
    "from unidecode import unidecode\n",
    "import time\n",
    "\n",
    "# ASK = input(\"What type of car you want? \")\n",
    "# PATH = 'https://divar.ir'\n",
    "# URL = f'{PATH}/s/iran/auto?q={ASK}'\n",
    "# EXTRACT = \"post-list__items-container-e44b2\"\n",
    "\n",
    "\n",
    "PATH = \"https://divar.ir\"\n",
    "URL = f\"{PATH}/s/iran/auto?q=206\"\n",
    "EXTRACT = \"post-list__items-container-e44b2\"\n",
    "ENV_TOKEN = {\n",
    "            'colume_4' : {'خط و خش جزیی':85\n",
    "                           ,'رنگ‌شدگی':45\n",
    "                           ,'سالم و بی‌خط و خش':100 \n",
    "                           ,'دوررنگ':10},\n",
    "             'colume_3' : {'سالم و پلمپ':90, \n",
    "                           'ضربه‌خورده':10},\n",
    "             'colume_6' : {'اتوماتیک':1, \n",
    "                           'دنده\\u200cای':0}\n",
    "}\n",
    "\n",
    "\n",
    "\n",
    "def Requests(path_req, class_type=None):\n",
    "    req = urllib3.PoolManager()\n",
    "    res = req.request('GET', path_req)\n",
    "    soup = BeautifulSoup(res.data, 'html.parser')\n",
    "    data = soup.findAll('div', {'class':class_type})[0]\n",
    "    return data\n",
    "\n",
    "\n",
    "def ExtractDataFromSite():\n",
    "    time.sleep(2)\n",
    "    try:\n",
    "        data = Requests(URL, EXTRACT)\n",
    "        time.sleep(8)\n",
    "        all_values_together = []\n",
    "        for d in data.findAll('div', {'class':\"post-list__widget-col-c1444\"}):\n",
    "            for a in d.find_all('a', href=True):\n",
    "                data_path = a['href']\n",
    "                NEW_URL = PATH + data_path\n",
    "                # time.sleep(10)\n",
    "                datasets = Requests(NEW_URL, class_type=\"post-page__section--padded\")\n",
    "                time.sleep(10)\n",
    "                rows = datasets.findAll('div', \n",
    "                            {'class':\"kt-base-row kt-base-row--large kt-unexpandable-row\"})\n",
    "                col_row = {}\n",
    "                token = {}\n",
    "                for i, row in enumerate(rows):\n",
    "                    key_value = row.get_text(separator=',')\n",
    "                    if i<=1:\n",
    "                        pass\n",
    "                    elif i==len(rows)-1:\n",
    "                        col_row['price'] = float(unidecode(key_value.split(',')[1].split(' ')[0]).replace(',', ''))\n",
    "                    elif i==5:\n",
    "                        token[f'colume_{i}'] = key_value.split(',')[0]\n",
    "                        col_row[f'colume_{i}'] = int(unidecode(key_value.split(',')[1].split(' ')[0]))\n",
    "                    else:\n",
    "                        token[f'colume_{i}'] = key_value.split(',')[0]\n",
    "                        col_row[f'colume_{i}'] = key_value.split(',')[1]\n",
    "                count = 10     \n",
    "                for conts, keys in zip(datasets.find_all('td')[:-1], datasets.find_all('th')[:-1]):\n",
    "                    col_row[f'colume_{count}'] = int(unidecode(conts.contents[0]).replace(',', ''))\n",
    "                    token[f'colume_{count}'] = keys.text\n",
    "                    count += 1\n",
    "\n",
    "                col_row['url'] = NEW_URL\n",
    "                all_values_together.append(col_row)\n",
    "                print(f'Done. URL: {NEW_URL}')\n",
    "                # print(col_row, token)\n",
    "            \n",
    "    except Exception as error:\n",
    "        print(\"Request is Refus please try again.\" , error)\n",
    "\n",
    "    return all_values_together, token\n",
    "\n",
    "dataset, token = ExtractDataFromSite()\n",
    "\n",
    "print(f\"Dataset is: {dataset}, Token is: {token}\")"
   ]
  },
  {
   "cell_type": "code",
   "execution_count": 34,
   "id": "6dfc06e4-98e7-4648-bbbd-5c0c772d0760",
   "metadata": {},
   "outputs": [],
   "source": [
    "df = pd.DataFrame()"
   ]
  },
  {
   "cell_type": "code",
   "execution_count": 38,
   "id": "6076a4f9-26b4-4ae9-b43b-4553a72dab97",
   "metadata": {},
   "outputs": [],
   "source": [
    "ENV_TOKEN = {\n",
    "            'colume_4' : {'خط و خش جزیی':85\n",
    "                           ,'رنگ‌شدگی':45\n",
    "                           ,'سالم و بی‌خط و خش':100 \n",
    "                           ,'دوررنگ':10},\n",
    "             'colume_3' : {'سالم و پلمپ':90, \n",
    "                           'ضربه‌خورده':10},\n",
    "             'colume_6' : {'اتوماتیک':1, \n",
    "                           'دنده\\u200cای':0}\n",
    "}"
   ]
  },
  {
   "cell_type": "code",
   "execution_count": 43,
   "id": "f21eaf9e-0512-4759-b50c-d0160cf1913f",
   "metadata": {},
   "outputs": [
    {
     "name": "stdout",
     "output_type": "stream",
     "text": [
      "سالم و پلمپ\n",
      "ضربه‌خورده\n",
      "خط و خش جزیی\n",
      "رنگ‌شدگی\n",
      "سالم و بی‌خط و خش\n",
      "دوررنگ\n",
      "اتوماتیک\n",
      "دنده‌ای\n",
      "\n",
      "Next .......................\n",
      "\n",
      "سالم و پلمپ\n",
      "ضربه‌خورده\n",
      "خط و خش جزیی\n",
      "رنگ‌شدگی\n",
      "سالم و بی‌خط و خش\n",
      "دوررنگ\n",
      "اتوماتیک\n",
      "دنده‌ای\n",
      "\n",
      "Next .......................\n",
      "\n"
     ]
    }
   ],
   "source": []
  },
  {
   "cell_type": "code",
   "execution_count": 36,
   "id": "74e7d91d-a40b-4cf1-a19c-02dbca6f7145",
   "metadata": {},
   "outputs": [
    {
     "data": {
      "text/html": [
       "<div>\n",
       "<style scoped>\n",
       "    .dataframe tbody tr th:only-of-type {\n",
       "        vertical-align: middle;\n",
       "    }\n",
       "\n",
       "    .dataframe tbody tr th {\n",
       "        vertical-align: top;\n",
       "    }\n",
       "\n",
       "    .dataframe thead th {\n",
       "        text-align: right;\n",
       "    }\n",
       "</style>\n",
       "<table border=\"1\" class=\"dataframe\">\n",
       "  <thead>\n",
       "    <tr style=\"text-align: right;\">\n",
       "      <th></th>\n",
       "      <th>colume_2</th>\n",
       "      <th>colume_3</th>\n",
       "      <th>colume_4</th>\n",
       "      <th>colume_5</th>\n",
       "      <th>colume_6</th>\n",
       "      <th>colume_7</th>\n",
       "      <th>price</th>\n",
       "      <th>colume_10</th>\n",
       "      <th>colume_11</th>\n",
       "      <th>url</th>\n",
       "    </tr>\n",
       "  </thead>\n",
       "  <tbody>\n",
       "  </tbody>\n",
       "</table>\n",
       "</div>"
      ],
      "text/plain": [
       "Empty DataFrame\n",
       "Columns: [colume_2, colume_3, colume_4, colume_5, colume_6, colume_7, price, colume_10, colume_11, url]\n",
       "Index: []"
      ]
     },
     "execution_count": 36,
     "metadata": {},
     "output_type": "execute_result"
    }
   ],
   "source": [
    "df"
   ]
  },
  {
   "cell_type": "code",
   "execution_count": 6,
   "id": "1f68cc26-e77a-4f82-961b-58647819b957",
   "metadata": {},
   "outputs": [
    {
     "data": {
      "text/plain": [
       "[{'colume_2': 'سالم',\n",
       "  'colume_3': 'سالم و پلمپ',\n",
       "  'colume_4': 'سالم و بی\\u200cخط و خش',\n",
       "  'colume_5': 11,\n",
       "  'colume_6': 'دنده\\u200cای',\n",
       "  'price': 610000000.0,\n",
       "  'colume_10': 19000,\n",
       "  'colume_11': 1401,\n",
       "  'url': 'https://divar.ir/v/پژو-206-تیپ-۳-پانوراما-مدل-۱۴۰۱/QZwjRlNQ'},\n",
       " {'colume_2': 'سالم',\n",
       "  'colume_3': 'سالم و پلمپ',\n",
       "  'colume_4': 'رنگ\\u200cشدگی',\n",
       "  'colume_5': 4,\n",
       "  'colume_6': 'اتوماتیک',\n",
       "  'price': 420000000.0,\n",
       "  'colume_10': 280000,\n",
       "  'colume_11': 1391,\n",
       "  'url': 'https://divar.ir/v/پژو-206-sd-v9-مدل-۱۳۹۱/QZwD5uzU'}]"
      ]
     },
     "execution_count": 6,
     "metadata": {},
     "output_type": "execute_result"
    }
   ],
   "source": [
    "dataset"
   ]
  },
  {
   "cell_type": "code",
   "execution_count": 5,
   "id": "55c4fc63-909a-4653-8e7e-0516f45fb1c5",
   "metadata": {},
   "outputs": [
    {
     "data": {
      "text/plain": [
       "{'colume_2': 'وضعیت موتور',\n",
       " 'colume_3': 'وضعیت شاسی\\u200cها',\n",
       " 'colume_4': 'وضعیت بدنه',\n",
       " 'colume_5': 'مهلت بیمهٔ شخص ثالث',\n",
       " 'colume_6': 'گیربکس',\n",
       " 'colume_10': 'کارکرد',\n",
       " 'colume_11': 'مدل (سال تولید)'}"
      ]
     },
     "execution_count": 5,
     "metadata": {},
     "output_type": "execute_result"
    }
   ],
   "source": [
    "token"
   ]
  },
  {
   "cell_type": "code",
   "execution_count": 24,
   "id": "bd195173-bc86-44bc-9830-8e47b327f264",
   "metadata": {},
   "outputs": [],
   "source": []
  },
  {
   "cell_type": "code",
   "execution_count": 25,
   "id": "d6f73ce0-fd16-4e4b-8d51-f86db780b232",
   "metadata": {},
   "outputs": [
    {
     "data": {
      "text/plain": [
       "{'colume_4': {'خط و خش جزیی': 85,\n",
       "  'رنگ\\u200cشدگی': 45,\n",
       "  'سالم و بی\\u200cخط و خش': 100,\n",
       "  'دوررنگ': 10},\n",
       " 'colume_3': {'سالم و پلمپ': 90, 'ضربه\\u200cخورده': 10},\n",
       " 'colume_6': {'اتوماتیک': 1, 'دنده\\u200cای': 0}}"
      ]
     },
     "execution_count": 25,
     "metadata": {},
     "output_type": "execute_result"
    }
   ],
   "source": [
    "env_token"
   ]
  },
  {
   "cell_type": "code",
   "execution_count": 27,
   "id": "4fb2fcce-f865-429c-93c4-3b35d6b83cf2",
   "metadata": {},
   "outputs": [
    {
     "data": {
      "text/plain": [
       "{'family': {'amir': 10, 'negar': 20, 'faeze': 89},\n",
       " 'family2': {'amir': 10, 'negar': 20, 'faeze': 89}}"
      ]
     },
     "execution_count": 27,
     "metadata": {},
     "output_type": "execute_result"
    }
   ],
   "source": [
    "x = {'family': {'amir': 10, 'negar': 20, 'faeze': 89},\n",
    "     'family2': {'amir': 10, 'negar': 20, 'faeze': 89}}\n",
    "\n",
    "x"
   ]
  },
  {
   "cell_type": "code",
   "execution_count": 28,
   "id": "924a6fa1-d2b2-4d43-b120-b3df8c039618",
   "metadata": {},
   "outputs": [
    {
     "data": {
      "text/plain": [
       "{'colume_4': {'خط و خش جزیی': 85,\n",
       "  'رنگ\\u200cشدگی': 45,\n",
       "  'سالم و بی\\u200cخط و خش': 100,\n",
       "  'دوررنگ': 10},\n",
       " 'colume_3': {'سالم و پلمپ': 90, 'ضربه\\u200cخورده': 10},\n",
       " 'colume_6': {'اتوماتیک': 1, 'دنده\\u200cای': 0}}"
      ]
     },
     "execution_count": 28,
     "metadata": {},
     "output_type": "execute_result"
    }
   ],
   "source": [
    "env_token"
   ]
  },
  {
   "cell_type": "code",
   "execution_count": null,
   "id": "671df3bd-da66-4e00-aa7b-0d1257641356",
   "metadata": {},
   "outputs": [],
   "source": []
  },
  {
   "cell_type": "code",
   "execution_count": null,
   "id": "d07b55f0-58ab-4f96-858b-0e6885bc42b0",
   "metadata": {},
   "outputs": [],
   "source": []
  },
  {
   "cell_type": "code",
   "execution_count": null,
   "id": "f6127a0d-f3ab-4daf-9a21-bba7335a6341",
   "metadata": {},
   "outputs": [],
   "source": []
  },
  {
   "cell_type": "code",
   "execution_count": null,
   "id": "bcd7a9ed-eb2e-49ca-996c-13269006393c",
   "metadata": {},
   "outputs": [],
   "source": []
  },
  {
   "cell_type": "code",
   "execution_count": null,
   "id": "5a8a2388-e86d-43e5-bac9-a449be38c4ed",
   "metadata": {},
   "outputs": [],
   "source": []
  },
  {
   "cell_type": "code",
   "execution_count": null,
   "id": "dd91d4bd-72cf-49a8-a40d-5613c2072f0b",
   "metadata": {},
   "outputs": [],
   "source": []
  },
  {
   "cell_type": "code",
   "execution_count": null,
   "id": "a9d4b363-cc4f-4cdf-a445-8d5f359f9829",
   "metadata": {},
   "outputs": [],
   "source": []
  },
  {
   "cell_type": "code",
   "execution_count": null,
   "id": "05c9d744-d0e7-41b6-b66c-fe6f35e4db4c",
   "metadata": {},
   "outputs": [],
   "source": []
  },
  {
   "cell_type": "code",
   "execution_count": null,
   "id": "2ef3b0d0-8d4d-43f6-9b80-392d938f5c2e",
   "metadata": {},
   "outputs": [],
   "source": []
  },
  {
   "cell_type": "code",
   "execution_count": null,
   "id": "13afaab9-54c2-460f-b1e9-739d059f00c5",
   "metadata": {},
   "outputs": [],
   "source": []
  },
  {
   "cell_type": "code",
   "execution_count": null,
   "id": "3c371c0e-172e-4024-8237-1fc938d29f11",
   "metadata": {},
   "outputs": [],
   "source": []
  },
  {
   "cell_type": "code",
   "execution_count": null,
   "id": "e9ec2a1b-004a-4e12-b2fe-3e831afb57ff",
   "metadata": {},
   "outputs": [],
   "source": []
  }
 ],
 "metadata": {
  "kernelspec": {
   "display_name": "Python 3 (ipykernel)",
   "language": "python",
   "name": "python3"
  },
  "language_info": {
   "codemirror_mode": {
    "name": "ipython",
    "version": 3
   },
   "file_extension": ".py",
   "mimetype": "text/x-python",
   "name": "python",
   "nbconvert_exporter": "python",
   "pygments_lexer": "ipython3",
   "version": "3.10.12"
  }
 },
 "nbformat": 4,
 "nbformat_minor": 5
}
