{
 "cells": [
  {
   "cell_type": "code",
   "execution_count": 4,
   "id": "6c4f6c52-c5d7-411b-bf09-6f3579a55779",
   "metadata": {},
   "outputs": [
    {
     "name": "stdout",
     "output_type": "stream",
     "text": [
      "200\n"
     ]
    }
   ],
   "source": [
    "from bs4 import BeautifulSoup\n",
    "import urllib3\n",
    "import pandas as pd\n",
    "from unidecode import unidecode\n",
    "import time\n",
    "\n",
    "# ASK = input(\"What type of car you want? \")\n",
    "# PATH = 'https://divar.ir'\n",
    "# URL = f'{PATH}/s/iran/auto?q={ASK}'\n",
    "# EXTRACT = \"post-list__items-container-e44b2\"\n",
    "\n",
    "\n",
    "PATH = \"https://divar.ir\"\n",
    "URL = f\"{PATH}/s/iran/auto?q=206\"\n",
    "EXTRACT = \"post-list__items-container-e44b2\"\n",
    "\n",
    "\n",
    "def Requests(path_req, class_type=None, ShowConnection=False):\n",
    "    req = urllib3.PoolManager()\n",
    "    res = req.request('GET', path_req)\n",
    "    if ShowConnection:\n",
    "        print(res.status)\n",
    "    soup = BeautifulSoup(res.data, 'html.parser')\n",
    "    data = soup.findAll('div', {'class':class_type})[0]\n",
    "    return data\n",
    "\n",
    "\n",
    "data = Requests(URL, EXTRACT, ShowConnection=True)"
   ]
  },
  {
   "cell_type": "code",
   "execution_count": 7,
   "id": "25160bd6-508d-4cb8-9b43-b89d39303028",
   "metadata": {},
   "outputs": [
    {
     "name": "stdout",
     "output_type": "stream",
     "text": [
      "Done. URL: https://divar.ir/v/پژو-206-sd-۲۰۶-موتور-و-شاسی-سالم-مدل۸۹/QZsPVwLA, 1\n",
      "Done. URL: https://divar.ir/v/پژو-206-sd-v8-مدل-۱۳۹۶/gZEEAE9A, 2\n",
      "\n",
      "This data is less feature so must removed --> {'colume_3': 'سالم و پلمپ', 'colume_4': 'خط و خش جزیی', 'colume_5': '۱ ماه', 'colume_6': 'دنده\\u200cای', 'colume_7': 'هستم', 'price': 427000000.0, 'colume_10': 98000, 'colume_11': 1397, 'url': 'https://divar.ir/v/پژو-206-تیپ-۲-مدل-۱۳۹۷/gZEAQnUv'}, leght 9\n",
      "\n",
      "\n",
      "This data is less feature so must removed --> {'colume_3': 'ضربه\\u200cخورده', 'colume_4': 'سالم و پلمپ', 'colume_5': 'تصادفی', 'colume_6': '۱۲ ماه', 'colume_7': 'اتوماتیک', 'price': 240000000.0, 'colume_10': 166000, 'colume_11': 1389, 'url': 'https://divar.ir/v/پژو-206-sd-v9-مدل-۱۳۸۹/gZEAgg5k'}, leght 9\n",
      "\n",
      "\n",
      "This data is less feature so must removed --> {'colume_3': 'سالم و پلمپ', 'colume_4': 'دوررنگ', 'colume_5': '۱۰ ماه', 'colume_6': 'دنده\\u200cای', 'colume_7': 'هستم', 'price': 350000000.0, 'colume_10': 168000, 'colume_11': 1391, 'url': 'https://divar.ir/v/پژو-206-تیپ-۲-مدل-۱۳۹۱/gZEAQQX3'}, leght 9\n",
      "\n",
      "\n",
      "This data is less feature so must removed --> {'colume_2': 'ضربه\\u200cخورده', 'colume_3': 'سالم و پلمپ', 'colume_4': 'رنگ\\u200cشدگی', 'price': 235000000.0, 'colume_10': 250000, 'colume_11': 1387, 'url': 'https://divar.ir/v/پژو-206-تیپ-۲-مدل-۱۳۸۷/gZEAQWLI'}, leght 7\n",
      "\n",
      "Done. URL: https://divar.ir/v/پژو-206-sd-v8-مدل-۱۳۹۲-tu5/gZEAAMkl, 3\n",
      "\n",
      "This data is less feature so must removed --> {'colume_3': 'سالم و پلمپ', 'colume_4': 'دوررنگ', 'colume_5': '۴ ماه', 'colume_6': 'دنده\\u200cای', 'colume_7': 'هستم', 'price': 310000000.0, 'colume_10': 170000, 'colume_11': 1390, 'url': 'https://divar.ir/v/پژو-206-تیپ-۲-مدل-۱۳۹۰/gZEAABF3'}, leght 9\n",
      "\n",
      "Done. URL: https://divar.ir/v/پژو-206-تیپ-۲-مدل-۱۳۹۹/gZD8_5Ug, 4\n",
      "\n",
      "This data is less feature so must removed --> {'colume_3': 'سالم و پلمپ', 'colume_4': 'دوررنگ', 'colume_5': '۸ ماه', 'colume_6': 'دنده\\u200cای', 'colume_7': 'هستم', 'price': 167000000.0, 'colume_10': 340000, 'colume_11': 1380, 'url': 'https://divar.ir/v/پژو-206-تیپ-۲-مدل-۱۳۸۰/gZD8v2n9'}, leght 9\n",
      "\n",
      "\n",
      "This data is less feature so must removed --> {'colume_3': 'ضربه\\u200cخورده', 'colume_4': 'سالم و پلمپ', 'colume_5': 'تمام\\u200cرنگ', 'colume_6': '۱۱ ماه', 'colume_7': 'دنده\\u200cای', 'colume_8': 'هستم', 'price': 330000000.0, 'colume_10': 139000, 'colume_11': 1396, 'url': 'https://divar.ir/v/پژو-206-sd-v8-مدل-۱۳۹۶/QZpDsDNW'}, leght 10\n",
      "\n",
      "Done. URL: https://divar.ir/v/خودرو-۲۰۶-تیپ-۳/gZD8vmhU, 5\n",
      "\n",
      "This data is less feature so must removed --> {'colume_3': 'ضربه\\u200cخورده', 'colume_4': 'سالم و پلمپ', 'colume_5': 'رنگ\\u200cشدگی', 'colume_6': '۱۰ ماه', 'colume_7': 'دنده\\u200cای', 'colume_8': 'هستم', 'price': 468000000.0, 'colume_10': 42000, 'colume_11': 1401, 'url': 'https://divar.ir/v/پژو-206-تیپ-۲-مدل-۱۴۰۱/QZ4LXr2g'}, leght 10\n",
      "\n",
      "\n",
      "This data is less feature so must removed --> {'colume_2': 'بنزینی', 'colume_4': 'سالم و پلمپ', 'colume_5': 'سالم و بی\\u200cخط و خش', 'colume_6': '۱۲ ماه', 'colume_7': 'دنده\\u200cای', 'colume_8': 'هستم', 'price': 585000000.0, 'colume_10': 87000, 'colume_11': 1399, 'url': 'https://divar.ir/v/پژو-206-sd-v8-مدل-۱۳۹۹/gZD8veaC'}, leght 10\n",
      "\n",
      "\n",
      "This data is less feature so must removed --> {'colume_2': 'سالم و پلمپ', 'colume_3': 'خط و خش جزیی', 'price': 365000000.0, 'colume_10': 230000, 'colume_11': 1391, 'url': 'https://divar.ir/v/پژو-206-تیپ-۵-مدل-۱۳۹۱/gZD8vclV'}, leght 6\n",
      "\n",
      "Done. URL: https://divar.ir/v/پژو-206-تیپ-۲-مدل-۱۳۸۳/gZD8vaam, 6\n",
      "Done. URL: https://divar.ir/v/پژو-206-sd-v8-مدل-۱۳۹۷/gZDwvgIf, 7\n",
      "\n",
      "This data is less feature so must removed --> {'colume_3': 'رنگ\\u200cشدگی', 'colume_4': '۱۰ ماه', 'colume_5': 'هستم', 'price': 300000000.0, 'colume_10': 370000, 'colume_11': 1389, 'url': 'https://divar.ir/v/پژو-206-sd-v1-مدل-۱۳۸۹/gZD8_Fg3'}, leght 7\n",
      "\n",
      "Done. URL: https://divar.ir/v/پژو-206-تیپ-۲-مدل-۱۳۸۷/gZDwQqtQ, 8\n",
      "\n",
      "This data is less feature so must removed --> {'colume_3': 'سالم و پلمپ', 'colume_4': 'خط و خش جزیی', 'colume_5': '۱۱ ماه', 'colume_6': 'دنده\\u200cای', 'colume_7': 'هستم', 'price': 510000000.0, 'colume_10': 166000, 'colume_11': 1397, 'url': 'https://divar.ir/v/پژو-206-تیپ-۵-مدل-۱۳۹۷/gZD8_Eu-'}, leght 9\n",
      "\n",
      "\n",
      "This data is less feature so must removed --> {'url': 'https://divar.ir/v/اجاره-خودرو-ماشین-رنت-۲۰۶-۲۰۷-پرشیا-رنت/QZ6WhAyk'}, leght 1\n",
      "\n",
      "\n",
      "This data is less feature so must removed --> {'colume_2': 'ضربه\\u200cخورده', 'colume_3': 'سالم و پلمپ', 'colume_4': 'رنگ\\u200cشدگی', 'price': 450000000.0, 'colume_10': 116000, 'colume_11': 1394, 'url': 'https://divar.ir/v/پژو-206-تیپ-۵-مدل-۱۳۹۴-کامل/gZBc_2sI'}, leght 7\n",
      "\n",
      "Done. URL: https://divar.ir/v/پژو-206-تیپ-۳-مدل-۱۳۸۳/gZD0f3ky, 9\n",
      "Done. URL: https://divar.ir/v/پژو-206-تیپ-۲-مدل-۱۴۰۱/gZD0_mt0, 10\n",
      "Dataset is: [{'colume_3': 'سالم و پلمپ', 'colume_4': 'رنگ\\u200cشدگی', 'colume_5': '۲ ماه', 'colume_6': 'دنده\\u200cای', 'price': 318000000.0, 'colume_10': 280000, 'colume_11': 1389, 'url': 'https://divar.ir/v/پژو-206-sd-۲۰۶-موتور-و-شاسی-سالم-مدل۸۹/QZsPVwLA'}, {'colume_3': 'سالم و پلمپ', 'colume_4': 'سالم و بی\\u200cخط و خش', 'colume_5': '۵ ماه', 'colume_6': 'دنده\\u200cای', 'price': 55000000.0, 'colume_10': 130000, 'colume_11': 1396, 'url': 'https://divar.ir/v/پژو-206-sd-v8-مدل-۱۳۹۶/gZEEAE9A'}, {'colume_3': 'سالم و پلمپ', 'colume_4': 'سالم و بی\\u200cخط و خش', 'colume_5': '۵ ماه', 'colume_6': 'دنده\\u200cای', 'price': 373500000.0, 'colume_10': 200000, 'colume_11': 1392, 'url': 'https://divar.ir/v/پژو-206-sd-v8-مدل-۱۳۹۲-tu5/gZEAAMkl'}, {'colume_3': 'سالم و پلمپ', 'colume_4': 'خط و خش جزیی', 'colume_5': '۱۰ ماه', 'colume_6': 'دنده\\u200cای', 'price': 470000000.0, 'colume_10': 100000, 'colume_11': 1399, 'url': 'https://divar.ir/v/پژو-206-تیپ-۲-مدل-۱۳۹۹/gZD8_5Ug'}, {'colume_3': 'سالم و پلمپ', 'colume_4': 'خط و خش جزیی', 'colume_5': '۳ ماه', 'colume_6': 'دنده\\u200cای', 'price': 224000000.0, 'colume_10': 360000, 'colume_11': 1383, 'url': 'https://divar.ir/v/خودرو-۲۰۶-تیپ-۳/gZD8vmhU'}, {'colume_3': 'سالم و پلمپ', 'colume_4': 'سالم و بی\\u200cخط و خش', 'colume_5': '۳ ماه', 'colume_6': 'دنده\\u200cای', 'price': 209000000.0, 'colume_10': 350000, 'colume_11': 1383, 'url': 'https://divar.ir/v/پژو-206-تیپ-۲-مدل-۱۳۸۳/gZD8vaam'}, {'colume_3': 'سالم و پلمپ', 'colume_4': 'سالم و بی\\u200cخط و خش', 'colume_5': '۹ ماه', 'colume_6': 'دنده\\u200cای', 'price': 530000000.0, 'colume_10': 95000, 'colume_11': 1397, 'url': 'https://divar.ir/v/پژو-206-sd-v8-مدل-۱۳۹۷/gZDwvgIf'}, {'colume_3': 'سالم و پلمپ', 'colume_4': 'سالم و بی\\u200cخط و خش', 'colume_5': '۳ ماه', 'colume_6': 'دنده\\u200cای', 'price': 310000000.0, 'colume_10': 360000, 'colume_11': 1387, 'url': 'https://divar.ir/v/پژو-206-تیپ-۲-مدل-۱۳۸۷/gZDwQqtQ'}, {'colume_3': 'سالم و پلمپ', 'colume_4': 'دوررنگ', 'colume_5': '۶ ماه', 'colume_6': 'دنده\\u200cای', 'price': 230000000.0, 'colume_10': 410000, 'colume_11': 1383, 'url': 'https://divar.ir/v/پژو-206-تیپ-۳-مدل-۱۳۸۳/gZD0f3ky'}, {'colume_3': 'سالم و پلمپ', 'colume_4': 'سالم و بی\\u200cخط و خش', 'colume_5': '۶ ماه', 'colume_6': 'دنده\\u200cای', 'price': 595000000.0, 'colume_10': 19000, 'colume_11': 1401, 'url': 'https://divar.ir/v/پژو-206-تیپ-۲-مدل-۱۴۰۱/gZD0_mt0'}], Token is: {'colume_3': 'وضعیت شاسی\\u200cها', 'colume_4': 'وضعیت بدنه', 'colume_5': 'مهلت بیمهٔ شخص ثالث', 'colume_6': 'گیربکس', 'colume_10': 'کارکرد', 'colume_11': 'مدل (سال تولید)'}\n"
     ]
    }
   ],
   "source": [
    "def ExtractDataFromSite():\n",
    "    time.sleep(5)\n",
    "    try:\n",
    "        data = Requests(URL, EXTRACT)\n",
    "        time.sleep(10)\n",
    "        all_values_together = []\n",
    "        cnt = 0\n",
    "        for a in data.find_all('a', href=True):\n",
    "            data_path = a['href']\n",
    "            NEW_URL = PATH + data_path\n",
    "            time.sleep(10)\n",
    "            datasets = Requests(NEW_URL, class_type=\"post-page__section--padded\")\n",
    "            time.sleep(10)\n",
    "            rows = datasets.findAll('div', \n",
    "                        {'class':\"kt-base-row kt-base-row--large kt-unexpandable-row\"})\n",
    "            col_row = {}\n",
    "            token = {}\n",
    "            for i, row in enumerate(rows):\n",
    "                key_value = row.get_text(separator=',')\n",
    "                if i<=1 or key_value.split(',')[1]=='سالم':\n",
    "                    pass\n",
    "                elif i==len(rows)-1:\n",
    "                    col_row['price'] = float(unidecode(key_value.split(',')[1].split(' ')[0]).replace(',', ''))\n",
    "                    \n",
    "                elif key_value.split(',')[1]=='شاسی جلو' or key_value.split(',')[1]=='شاسی عقب':\n",
    "                    token[f'colume_{i}'] = key_value.split(',')[0]\n",
    "                    col_row[f'colume_{i}'] = key_value.split(',')[1]\n",
    "                else:\n",
    "                    token[f'colume_{i}'] = key_value.split(',')[0]\n",
    "                    col_row[f'colume_{i}'] = key_value.split(',')[1]\n",
    "                    \n",
    "            count = 10     \n",
    "            for conts, keys in zip(datasets.find_all('td')[:-1], datasets.find_all('th')[:-1]):\n",
    "                col_row[f'colume_{count}'] = int(float(unidecode(conts.contents[0]).replace(',', '')))\n",
    "                token[f'colume_{count}'] = keys.text\n",
    "                count += 1\n",
    "\n",
    "            col_row['url'] = NEW_URL\n",
    "            if len(col_row)==8:\n",
    "                cnt += 1\n",
    "                all_values_together.append(col_row)\n",
    "                print(f'Done. URL: {NEW_URL}, {cnt}')\n",
    "            else:\n",
    "                print(f\"\\nThis data is less feature so must removed --> {col_row}, leght {len(col_row)}\\n\")\n",
    "            if cnt==120:\n",
    "                break\n",
    "            \n",
    "\n",
    "    except Exception as error:\n",
    "        print(\"Request is Refus please try again.\" , error)\n",
    "\n",
    "    return all_values_together, token\n",
    "\n",
    "\n",
    "dataset, token = ExtractDataFromSite()\n",
    "print(f\"Dataset is: {dataset}, Token is: {token}\")"
   ]
  },
  {
   "cell_type": "code",
   "execution_count": 8,
   "id": "a59b973e-4fef-48fa-95f7-aca86210a5be",
   "metadata": {},
   "outputs": [
    {
     "data": {
      "text/plain": [
       "(10,\n",
       " {'colume_3': 'وضعیت شاسی\\u200cها',\n",
       "  'colume_4': 'وضعیت بدنه',\n",
       "  'colume_5': 'مهلت بیمهٔ شخص ثالث',\n",
       "  'colume_6': 'گیربکس',\n",
       "  'colume_10': 'کارکرد',\n",
       "  'colume_11': 'مدل (سال تولید)'})"
      ]
     },
     "execution_count": 8,
     "metadata": {},
     "output_type": "execute_result"
    }
   ],
   "source": [
    "len(dataset), token"
   ]
  },
  {
   "cell_type": "code",
   "execution_count": 9,
   "id": "f4c64a3e-7aa2-4b09-a0ab-a74cde62b33b",
   "metadata": {},
   "outputs": [],
   "source": [
    "ENV_TOKEN = {\n",
    "            'colume_4' : {'خط و خش جزیی':85\n",
    "                           ,'رنگ‌شدگی':45\n",
    "                           ,'سالم و بی‌خط و خش':100 \n",
    "                           ,',دوررنگ':10,\n",
    "                          'تمام‌رنگ':10 ,\n",
    "                         'دوررنگ':10 ,\n",
    "                         'صافکاری بی‌رنگ':75},\n",
    "    \n",
    "             'colume_3' : {'سالم و پلمپ':90, \n",
    "                           'ضربه‌خورده':10},\n",
    "             'colume_6' : {'اتوماتیک':1, \n",
    "                           'دنده\\u200cای':0}\n",
    "}"
   ]
  },
  {
   "cell_type": "code",
   "execution_count": 12,
   "id": "f21eaf9e-0512-4759-b50c-d0160cf1913f",
   "metadata": {},
   "outputs": [],
   "source": [
    "for data in dataset:\n",
    "    for key in data.keys():\n",
    "        try:\n",
    "            data[key] = ENV_TOKEN[key][data[key]]\n",
    "        except Exception as cannot:\n",
    "            pass\n",
    "    "
   ]
  },
  {
   "cell_type": "code",
   "execution_count": 13,
   "id": "74e7d91d-a40b-4cf1-a19c-02dbca6f7145",
   "metadata": {},
   "outputs": [],
   "source": [
    "\n",
    "for index, data in enumerate(dataset):\n",
    "    if index==0:\n",
    "        df = pd.DataFrame([data])\n",
    "    else:\n",
    "        df.loc[len(df)] = data\n",
    "    "
   ]
  },
  {
   "cell_type": "code",
   "execution_count": 14,
   "id": "f6127a0d-f3ab-4daf-9a21-bba7335a6341",
   "metadata": {},
   "outputs": [
    {
     "data": {
      "text/html": [
       "<div>\n",
       "<style scoped>\n",
       "    .dataframe tbody tr th:only-of-type {\n",
       "        vertical-align: middle;\n",
       "    }\n",
       "\n",
       "    .dataframe tbody tr th {\n",
       "        vertical-align: top;\n",
       "    }\n",
       "\n",
       "    .dataframe thead th {\n",
       "        text-align: right;\n",
       "    }\n",
       "</style>\n",
       "<table border=\"1\" class=\"dataframe\">\n",
       "  <thead>\n",
       "    <tr style=\"text-align: right;\">\n",
       "      <th></th>\n",
       "      <th>colume_3</th>\n",
       "      <th>colume_4</th>\n",
       "      <th>colume_5</th>\n",
       "      <th>colume_6</th>\n",
       "      <th>price</th>\n",
       "      <th>colume_10</th>\n",
       "      <th>colume_11</th>\n",
       "      <th>url</th>\n",
       "    </tr>\n",
       "  </thead>\n",
       "  <tbody>\n",
       "    <tr>\n",
       "      <th>0</th>\n",
       "      <td>90</td>\n",
       "      <td>45</td>\n",
       "      <td>۲ ماه</td>\n",
       "      <td>0</td>\n",
       "      <td>318000000.0</td>\n",
       "      <td>280000</td>\n",
       "      <td>1389</td>\n",
       "      <td>https://divar.ir/v/پژو-206-sd-۲۰۶-موتور-و-شاسی...</td>\n",
       "    </tr>\n",
       "    <tr>\n",
       "      <th>1</th>\n",
       "      <td>90</td>\n",
       "      <td>100</td>\n",
       "      <td>۵ ماه</td>\n",
       "      <td>0</td>\n",
       "      <td>55000000.0</td>\n",
       "      <td>130000</td>\n",
       "      <td>1396</td>\n",
       "      <td>https://divar.ir/v/پژو-206-sd-v8-مدل-۱۳۹۶/gZEE...</td>\n",
       "    </tr>\n",
       "    <tr>\n",
       "      <th>2</th>\n",
       "      <td>90</td>\n",
       "      <td>100</td>\n",
       "      <td>۵ ماه</td>\n",
       "      <td>0</td>\n",
       "      <td>373500000.0</td>\n",
       "      <td>200000</td>\n",
       "      <td>1392</td>\n",
       "      <td>https://divar.ir/v/پژو-206-sd-v8-مدل-۱۳۹۲-tu5/...</td>\n",
       "    </tr>\n",
       "    <tr>\n",
       "      <th>3</th>\n",
       "      <td>90</td>\n",
       "      <td>85</td>\n",
       "      <td>۱۰ ماه</td>\n",
       "      <td>0</td>\n",
       "      <td>470000000.0</td>\n",
       "      <td>100000</td>\n",
       "      <td>1399</td>\n",
       "      <td>https://divar.ir/v/پژو-206-تیپ-۲-مدل-۱۳۹۹/gZD8...</td>\n",
       "    </tr>\n",
       "    <tr>\n",
       "      <th>4</th>\n",
       "      <td>90</td>\n",
       "      <td>85</td>\n",
       "      <td>۳ ماه</td>\n",
       "      <td>0</td>\n",
       "      <td>224000000.0</td>\n",
       "      <td>360000</td>\n",
       "      <td>1383</td>\n",
       "      <td>https://divar.ir/v/خودرو-۲۰۶-تیپ-۳/gZD8vmhU</td>\n",
       "    </tr>\n",
       "    <tr>\n",
       "      <th>5</th>\n",
       "      <td>90</td>\n",
       "      <td>100</td>\n",
       "      <td>۳ ماه</td>\n",
       "      <td>0</td>\n",
       "      <td>209000000.0</td>\n",
       "      <td>350000</td>\n",
       "      <td>1383</td>\n",
       "      <td>https://divar.ir/v/پژو-206-تیپ-۲-مدل-۱۳۸۳/gZD8...</td>\n",
       "    </tr>\n",
       "    <tr>\n",
       "      <th>6</th>\n",
       "      <td>90</td>\n",
       "      <td>100</td>\n",
       "      <td>۹ ماه</td>\n",
       "      <td>0</td>\n",
       "      <td>530000000.0</td>\n",
       "      <td>95000</td>\n",
       "      <td>1397</td>\n",
       "      <td>https://divar.ir/v/پژو-206-sd-v8-مدل-۱۳۹۷/gZDw...</td>\n",
       "    </tr>\n",
       "    <tr>\n",
       "      <th>7</th>\n",
       "      <td>90</td>\n",
       "      <td>100</td>\n",
       "      <td>۳ ماه</td>\n",
       "      <td>0</td>\n",
       "      <td>310000000.0</td>\n",
       "      <td>360000</td>\n",
       "      <td>1387</td>\n",
       "      <td>https://divar.ir/v/پژو-206-تیپ-۲-مدل-۱۳۸۷/gZDw...</td>\n",
       "    </tr>\n",
       "    <tr>\n",
       "      <th>8</th>\n",
       "      <td>90</td>\n",
       "      <td>10</td>\n",
       "      <td>۶ ماه</td>\n",
       "      <td>0</td>\n",
       "      <td>230000000.0</td>\n",
       "      <td>410000</td>\n",
       "      <td>1383</td>\n",
       "      <td>https://divar.ir/v/پژو-206-تیپ-۳-مدل-۱۳۸۳/gZD0...</td>\n",
       "    </tr>\n",
       "    <tr>\n",
       "      <th>9</th>\n",
       "      <td>90</td>\n",
       "      <td>100</td>\n",
       "      <td>۶ ماه</td>\n",
       "      <td>0</td>\n",
       "      <td>595000000.0</td>\n",
       "      <td>19000</td>\n",
       "      <td>1401</td>\n",
       "      <td>https://divar.ir/v/پژو-206-تیپ-۲-مدل-۱۴۰۱/gZD0...</td>\n",
       "    </tr>\n",
       "  </tbody>\n",
       "</table>\n",
       "</div>"
      ],
      "text/plain": [
       "   colume_3  colume_4 colume_5  colume_6        price  colume_10  colume_11  \\\n",
       "0        90        45    ۲ ماه         0  318000000.0     280000       1389   \n",
       "1        90       100    ۵ ماه         0   55000000.0     130000       1396   \n",
       "2        90       100    ۵ ماه         0  373500000.0     200000       1392   \n",
       "3        90        85   ۱۰ ماه         0  470000000.0     100000       1399   \n",
       "4        90        85    ۳ ماه         0  224000000.0     360000       1383   \n",
       "5        90       100    ۳ ماه         0  209000000.0     350000       1383   \n",
       "6        90       100    ۹ ماه         0  530000000.0      95000       1397   \n",
       "7        90       100    ۳ ماه         0  310000000.0     360000       1387   \n",
       "8        90        10    ۶ ماه         0  230000000.0     410000       1383   \n",
       "9        90       100    ۶ ماه         0  595000000.0      19000       1401   \n",
       "\n",
       "                                                 url  \n",
       "0  https://divar.ir/v/پژو-206-sd-۲۰۶-موتور-و-شاسی...  \n",
       "1  https://divar.ir/v/پژو-206-sd-v8-مدل-۱۳۹۶/gZEE...  \n",
       "2  https://divar.ir/v/پژو-206-sd-v8-مدل-۱۳۹۲-tu5/...  \n",
       "3  https://divar.ir/v/پژو-206-تیپ-۲-مدل-۱۳۹۹/gZD8...  \n",
       "4        https://divar.ir/v/خودرو-۲۰۶-تیپ-۳/gZD8vmhU  \n",
       "5  https://divar.ir/v/پژو-206-تیپ-۲-مدل-۱۳۸۳/gZD8...  \n",
       "6  https://divar.ir/v/پژو-206-sd-v8-مدل-۱۳۹۷/gZDw...  \n",
       "7  https://divar.ir/v/پژو-206-تیپ-۲-مدل-۱۳۸۷/gZDw...  \n",
       "8  https://divar.ir/v/پژو-206-تیپ-۳-مدل-۱۳۸۳/gZD0...  \n",
       "9  https://divar.ir/v/پژو-206-تیپ-۲-مدل-۱۴۰۱/gZD0...  "
      ]
     },
     "execution_count": 14,
     "metadata": {},
     "output_type": "execute_result"
    }
   ],
   "source": [
    "df"
   ]
  },
  {
   "cell_type": "code",
   "execution_count": 15,
   "id": "bcd7a9ed-eb2e-49ca-996c-13269006393c",
   "metadata": {},
   "outputs": [
    {
     "data": {
      "image/png": "[encoded data removed]",
      "text/plain": [
       "<Figure size 640x480 with 1 Axes>"
      ]
     },
     "metadata": {},
     "output_type": "display_data"
    },
    {
     "data": {
      "image/png": "[encoded data removed]",
      "text/plain": [
       "<Figure size 640x480 with 1 Axes>"
      ]
     },
     "metadata": {},
     "output_type": "display_data"
    },
    {
     "data": {
      "image/png": "[encoded data removed]",
      "text/plain": [
       "<Figure size 640x480 with 1 Axes>"
      ]
     },
     "metadata": {},
     "output_type": "display_data"
    },
    {
     "data": {
      "image/png": "[encoded data removed]",
      "text/plain": [
       "<Figure size 640x480 with 1 Axes>"
      ]
     },
     "metadata": {},
     "output_type": "display_data"
    },
    {
     "data": {
      "image/png": "[encoded data removed]",
      "text/plain": [
       "<Figure size 640x480 with 1 Axes>"
      ]
     },
     "metadata": {},
     "output_type": "display_data"
    }
   ],
   "source": [
    "import matplotlib.pyplot as plt\n",
    "\n",
    "ImportantColumn = ['colume_4', 'colume_6', 'colume_10', 'colume_11', 'colume_3']\n",
    "for col in ImportantColumn:\n",
    "    plt.scatter(df[col], df['price'])\n",
    "    plt.title(\"Scatter Plot\")\n",
    "    plt.xlabel(token[col])\n",
    "    plt.ylabel('Price')\n",
    "    plt.show()"
   ]
  },
  {
   "cell_type": "code",
   "execution_count": null,
   "id": "257481d9-a5d0-491c-be4d-23cd8d9549dd",
   "metadata": {},
   "outputs": [],
   "source": [
    "df = df[['colume_4', 'colume_10', 'colume_11', 'price', 'url']]"
   ]
  },
  {
   "cell_type": "code",
   "execution_count": 22,
   "id": "a98faa79-0225-492b-ae38-80c2b86e01cc",
   "metadata": {},
   "outputs": [
    {
     "data": {
      "text/plain": [
       "<AxesSubplot:ylabel='colume_4'>"
      ]
     },
     "execution_count": 22,
     "metadata": {},
     "output_type": "execute_result"
    },
    {
     "data": {
      "image/png": "[encoded data removed]",
      "text/plain": [
       "<Figure size 640x480 with 1 Axes>"
      ]
     },
     "metadata": {},
     "output_type": "display_data"
    }
   ],
   "source": [
    "import seaborn as sns\n",
    "\n",
    "sns.boxplot(df['colume_4'])"
   ]
  },
  {
   "cell_type": "code",
   "execution_count": 29,
   "id": "0a28d00c-9d36-41cc-b3f6-7de5abbdf7c9",
   "metadata": {},
   "outputs": [
    {
     "data": {
      "image/png": "[encoded data removed]",
      "text/plain": [
       "<Figure size 640x480 with 1 Axes>"
      ]
     },
     "metadata": {},
     "output_type": "display_data"
    },
    {
     "data": {
      "image/png": "[encoded data removed]",
      "text/plain": [
       "<Figure size 640x480 with 1 Axes>"
      ]
     },
     "metadata": {},
     "output_type": "display_data"
    }
   ],
   "source": [
    "from MainProject.PreprocessingData import Preprocess\n",
    "\n",
    "dectect_outlier = Preprocess()\n",
    "\n",
    "df_2 = dectect_outlier.RemoveOutliers(df, 'colume_4', 20)\n"
   ]
  },
  {
   "cell_type": "code",
   "execution_count": 30,
   "id": "dd91d4bd-72cf-49a8-a40d-5613c2072f0b",
   "metadata": {},
   "outputs": [
    {
     "data": {
      "text/html": [
       "<div>\n",
       "<style scoped>\n",
       "    .dataframe tbody tr th:only-of-type {\n",
       "        vertical-align: middle;\n",
       "    }\n",
       "\n",
       "    .dataframe tbody tr th {\n",
       "        vertical-align: top;\n",
       "    }\n",
       "\n",
       "    .dataframe thead th {\n",
       "        text-align: right;\n",
       "    }\n",
       "</style>\n",
       "<table border=\"1\" class=\"dataframe\">\n",
       "  <thead>\n",
       "    <tr style=\"text-align: right;\">\n",
       "      <th></th>\n",
       "      <th>colume_4</th>\n",
       "      <th>colume_10</th>\n",
       "      <th>colume_11</th>\n",
       "      <th>price</th>\n",
       "      <th>url</th>\n",
       "    </tr>\n",
       "  </thead>\n",
       "  <tbody>\n",
       "    <tr>\n",
       "      <th>0</th>\n",
       "      <td>45</td>\n",
       "      <td>280000</td>\n",
       "      <td>1389</td>\n",
       "      <td>318000000.0</td>\n",
       "      <td>https://divar.ir/v/پژو-206-sd-۲۰۶-موتور-و-شاسی...</td>\n",
       "    </tr>\n",
       "    <tr>\n",
       "      <th>1</th>\n",
       "      <td>100</td>\n",
       "      <td>130000</td>\n",
       "      <td>1396</td>\n",
       "      <td>55000000.0</td>\n",
       "      <td>https://divar.ir/v/پژو-206-sd-v8-مدل-۱۳۹۶/gZEE...</td>\n",
       "    </tr>\n",
       "    <tr>\n",
       "      <th>2</th>\n",
       "      <td>100</td>\n",
       "      <td>200000</td>\n",
       "      <td>1392</td>\n",
       "      <td>373500000.0</td>\n",
       "      <td>https://divar.ir/v/پژو-206-sd-v8-مدل-۱۳۹۲-tu5/...</td>\n",
       "    </tr>\n",
       "    <tr>\n",
       "      <th>3</th>\n",
       "      <td>85</td>\n",
       "      <td>100000</td>\n",
       "      <td>1399</td>\n",
       "      <td>470000000.0</td>\n",
       "      <td>https://divar.ir/v/پژو-206-تیپ-۲-مدل-۱۳۹۹/gZD8...</td>\n",
       "    </tr>\n",
       "    <tr>\n",
       "      <th>4</th>\n",
       "      <td>85</td>\n",
       "      <td>360000</td>\n",
       "      <td>1383</td>\n",
       "      <td>224000000.0</td>\n",
       "      <td>https://divar.ir/v/خودرو-۲۰۶-تیپ-۳/gZD8vmhU</td>\n",
       "    </tr>\n",
       "    <tr>\n",
       "      <th>5</th>\n",
       "      <td>100</td>\n",
       "      <td>350000</td>\n",
       "      <td>1383</td>\n",
       "      <td>209000000.0</td>\n",
       "      <td>https://divar.ir/v/پژو-206-تیپ-۲-مدل-۱۳۸۳/gZD8...</td>\n",
       "    </tr>\n",
       "    <tr>\n",
       "      <th>6</th>\n",
       "      <td>100</td>\n",
       "      <td>95000</td>\n",
       "      <td>1397</td>\n",
       "      <td>530000000.0</td>\n",
       "      <td>https://divar.ir/v/پژو-206-sd-v8-مدل-۱۳۹۷/gZDw...</td>\n",
       "    </tr>\n",
       "    <tr>\n",
       "      <th>7</th>\n",
       "      <td>100</td>\n",
       "      <td>360000</td>\n",
       "      <td>1387</td>\n",
       "      <td>310000000.0</td>\n",
       "      <td>https://divar.ir/v/پژو-206-تیپ-۲-مدل-۱۳۸۷/gZDw...</td>\n",
       "    </tr>\n",
       "    <tr>\n",
       "      <th>9</th>\n",
       "      <td>100</td>\n",
       "      <td>19000</td>\n",
       "      <td>1401</td>\n",
       "      <td>595000000.0</td>\n",
       "      <td>https://divar.ir/v/پژو-206-تیپ-۲-مدل-۱۴۰۱/gZD0...</td>\n",
       "    </tr>\n",
       "  </tbody>\n",
       "</table>\n",
       "</div>"
      ],
      "text/plain": [
       "   colume_4  colume_10  colume_11        price  \\\n",
       "0        45     280000       1389  318000000.0   \n",
       "1       100     130000       1396   55000000.0   \n",
       "2       100     200000       1392  373500000.0   \n",
       "3        85     100000       1399  470000000.0   \n",
       "4        85     360000       1383  224000000.0   \n",
       "5       100     350000       1383  209000000.0   \n",
       "6       100      95000       1397  530000000.0   \n",
       "7       100     360000       1387  310000000.0   \n",
       "9       100      19000       1401  595000000.0   \n",
       "\n",
       "                                                 url  \n",
       "0  https://divar.ir/v/پژو-206-sd-۲۰۶-موتور-و-شاسی...  \n",
       "1  https://divar.ir/v/پژو-206-sd-v8-مدل-۱۳۹۶/gZEE...  \n",
       "2  https://divar.ir/v/پژو-206-sd-v8-مدل-۱۳۹۲-tu5/...  \n",
       "3  https://divar.ir/v/پژو-206-تیپ-۲-مدل-۱۳۹۹/gZD8...  \n",
       "4        https://divar.ir/v/خودرو-۲۰۶-تیپ-۳/gZD8vmhU  \n",
       "5  https://divar.ir/v/پژو-206-تیپ-۲-مدل-۱۳۸۳/gZD8...  \n",
       "6  https://divar.ir/v/پژو-206-sd-v8-مدل-۱۳۹۷/gZDw...  \n",
       "7  https://divar.ir/v/پژو-206-تیپ-۲-مدل-۱۳۸۷/gZDw...  \n",
       "9  https://divar.ir/v/پژو-206-تیپ-۲-مدل-۱۴۰۱/gZD0...  "
      ]
     },
     "execution_count": 30,
     "metadata": {},
     "output_type": "execute_result"
    }
   ],
   "source": [
    "df_2"
   ]
  },
  {
   "cell_type": "code",
   "execution_count": 18,
   "id": "a9d4b363-cc4f-4cdf-a445-8d5f359f9829",
   "metadata": {},
   "outputs": [
    {
     "data": {
      "text/plain": [
       "{'colume_3': 'وضعیت شاسی\\u200cها',\n",
       " 'colume_4': 'وضعیت بدنه',\n",
       " 'colume_5': 'مهلت بیمهٔ شخص ثالث',\n",
       " 'colume_6': 'گیربکس',\n",
       " 'colume_10': 'کارکرد',\n",
       " 'colume_11': 'مدل (سال تولید)'}"
      ]
     },
     "execution_count": 18,
     "metadata": {},
     "output_type": "execute_result"
    }
   ],
   "source": [
    "token"
   ]
  },
  {
   "cell_type": "code",
   "execution_count": 31,
   "id": "05c9d744-d0e7-41b6-b66c-fe6f35e4db4c",
   "metadata": {},
   "outputs": [],
   "source": [
    "# Save data\n",
    "\n",
    "df_2.to_csv(\"Cars.csv\")"
   ]
  },
  {
   "cell_type": "code",
   "execution_count": null,
   "id": "2ef3b0d0-8d4d-43f6-9b80-392d938f5c2e",
   "metadata": {},
   "outputs": [],
   "source": []
  },
  {
   "cell_type": "code",
   "execution_count": null,
   "id": "13afaab9-54c2-460f-b1e9-739d059f00c5",
   "metadata": {},
   "outputs": [],
   "source": []
  },
  {
   "cell_type": "code",
   "execution_count": null,
   "id": "3c371c0e-172e-4024-8237-1fc938d29f11",
   "metadata": {},
   "outputs": [],
   "source": []
  },
  {
   "cell_type": "code",
   "execution_count": null,
   "id": "e9ec2a1b-004a-4e12-b2fe-3e831afb57ff",
   "metadata": {},
   "outputs": [],
   "source": []
  },
  {
   "cell_type": "code",
   "execution_count": null,
   "id": "3050d146-e8be-4db1-b1ff-69e553bb1519",
   "metadata": {},
   "outputs": [],
   "source": []
  },
  {
   "cell_type": "code",
   "execution_count": null,
   "id": "d60d73d3-a3e9-4e3e-bdbe-fb2df6cd705a",
   "metadata": {},
   "outputs": [],
   "source": []
  },
  {
   "cell_type": "code",
   "execution_count": null,
   "id": "2389339a-b965-44ce-ad63-1a4b3eb6e5aa",
   "metadata": {},
   "outputs": [],
   "source": []
  }
 ],
 "metadata": {
  "kernelspec": {
   "display_name": "Python 3 (ipykernel)",
   "language": "python",
   "name": "python3"
  },
  "language_info": {
   "codemirror_mode": {
    "name": "ipython",
    "version": 3
   },
   "file_extension": ".py",
   "mimetype": "text/x-python",
   "name": "python",
   "nbconvert_exporter": "python",
   "pygments_lexer": "ipython3",
   "version": "3.10.12"
  }
 },
 "nbformat": 4,
 "nbformat_minor": 5
}
